{
 "cells": [
  {
   "cell_type": "markdown",
   "metadata": {
    "colab_type": "text",
    "id": "WNK7vbHo-KYU"
   },
   "source": [
    "## Bayesian methods of hyperparameter optimization"
   ]
  },
  {
   "cell_type": "markdown",
   "metadata": {
    "colab_type": "text",
    "id": "BlFdvPwF-KYW"
   },
   "source": [
    "In addition to the random search and the grid search methods for selecting optimal hyperparameters, we can use Bayesian methods of probabilities to select the optimal hyperparameters for an algorithm.\n",
    "\n",
    "In this case study, we will be using the BayesianOptimization library to perform hyperparmater tuning. This library has very good documentation which you can find here: https://github.com/fmfn/BayesianOptimization\n",
    "\n",
    "You will need to install the Bayesian optimization module. Running a cell with an exclamation point in the beginning of the command will run it as a shell command — please do this to install this module from our notebook in the cell below."
   ]
  },
  {
   "cell_type": "code",
   "execution_count": 1,
   "metadata": {
    "colab": {},
    "colab_type": "code",
    "id": "Pssx080d-Ulf"
   },
   "outputs": [
    {
     "name": "stdout",
     "output_type": "stream",
     "text": [
      "Collecting bayesian-optimization\n",
      "  Downloading bayesian-optimization-1.2.0.tar.gz (14 kB)\n",
      "Requirement already satisfied: numpy>=1.9.0 in /Users/andygong/opt/anaconda3/lib/python3.9/site-packages (from bayesian-optimization) (1.22.4)\n",
      "Requirement already satisfied: scipy>=0.14.0 in /Users/andygong/opt/anaconda3/lib/python3.9/site-packages (from bayesian-optimization) (1.7.1)\n",
      "Requirement already satisfied: scikit-learn>=0.18.0 in /Users/andygong/opt/anaconda3/lib/python3.9/site-packages (from bayesian-optimization) (0.24.2)\n",
      "Requirement already satisfied: threadpoolctl>=2.0.0 in /Users/andygong/opt/anaconda3/lib/python3.9/site-packages (from scikit-learn>=0.18.0->bayesian-optimization) (2.2.0)\n",
      "Requirement already satisfied: joblib>=0.11 in /Users/andygong/opt/anaconda3/lib/python3.9/site-packages (from scikit-learn>=0.18.0->bayesian-optimization) (1.1.0)\n",
      "Building wheels for collected packages: bayesian-optimization\n",
      "  Building wheel for bayesian-optimization (setup.py) ... \u001b[?25ldone\n",
      "\u001b[?25h  Created wheel for bayesian-optimization: filename=bayesian_optimization-1.2.0-py3-none-any.whl size=11685 sha256=e1608f32fc2540fd27dd6d5b0b6376904f29f59987397d4d13d3ebf3d8f6d5c2\n",
      "  Stored in directory: /Users/andygong/Library/Caches/pip/wheels/14/98/74/190efced439ab92ca551550906290338ba5b64cfc9d0927765\n",
      "Successfully built bayesian-optimization\n",
      "Installing collected packages: bayesian-optimization\n",
      "Successfully installed bayesian-optimization-1.2.0\n"
     ]
    }
   ],
   "source": [
    "! pip install bayesian-optimization"
   ]
  },
  {
   "cell_type": "code",
   "execution_count": 3,
   "metadata": {},
   "outputs": [
    {
     "name": "stdout",
     "output_type": "stream",
     "text": [
      "Collecting lightgbm\n",
      "  Downloading lightgbm-3.3.2-py3-none-macosx_10_14_x86_64.macosx_10_15_x86_64.macosx_11_0_x86_64.whl (1.2 MB)\n",
      "\u001b[K     |████████████████████████████████| 1.2 MB 3.6 MB/s eta 0:00:01\n",
      "\u001b[?25hRequirement already satisfied: wheel in /Users/andygong/opt/anaconda3/lib/python3.9/site-packages (from lightgbm) (0.37.0)\n",
      "Requirement already satisfied: scikit-learn!=0.22.0 in /Users/andygong/opt/anaconda3/lib/python3.9/site-packages (from lightgbm) (0.24.2)\n",
      "Requirement already satisfied: numpy in /Users/andygong/opt/anaconda3/lib/python3.9/site-packages (from lightgbm) (1.22.4)\n",
      "Requirement already satisfied: scipy in /Users/andygong/opt/anaconda3/lib/python3.9/site-packages (from lightgbm) (1.7.1)\n",
      "Requirement already satisfied: threadpoolctl>=2.0.0 in /Users/andygong/opt/anaconda3/lib/python3.9/site-packages (from scikit-learn!=0.22.0->lightgbm) (2.2.0)\n",
      "Requirement already satisfied: joblib>=0.11 in /Users/andygong/opt/anaconda3/lib/python3.9/site-packages (from scikit-learn!=0.22.0->lightgbm) (1.1.0)\n",
      "Installing collected packages: lightgbm\n",
      "Successfully installed lightgbm-3.3.2\n"
     ]
    }
   ],
   "source": [
    "!pip install lightgbm"
   ]
  },
  {
   "cell_type": "code",
   "execution_count": 5,
   "metadata": {},
   "outputs": [
    {
     "name": "stdout",
     "output_type": "stream",
     "text": [
      "Collecting package metadata (current_repodata.json): done\n",
      "Solving environment: | \n",
      "The environment is inconsistent, please check the package plan carefully\n",
      "The following packages are causing the inconsistency:\n",
      "\n",
      "  - defaults/noarch::tifffile==2021.7.2=pyhd3eb1b0_2\n",
      "  - defaults/osx-64::daal4py==2021.3.0=py39h01d92e1_0\n",
      "  - defaults/osx-64::scipy==1.7.1=py39h88652d9_2\n",
      "  - defaults/osx-64::scikit-learn==0.24.2=py39hb2f4e1b_0\n",
      "  - defaults/noarch::imageio==2.9.0=pyhd3eb1b0_0\n",
      "  - defaults/osx-64::numba==0.54.1=py39hae1ba45_0\n",
      "  - defaults/osx-64::bottleneck==1.3.2=py39he3068b8_1\n",
      "  - defaults/osx-64::mkl_random==1.2.2=py39hb2f4e1b_0\n",
      "  - defaults/noarch::featuretools==0.27.1=pyhd3eb1b0_2\n",
      "  - defaults/osx-64::patsy==0.5.2=py39hecd8cb5_0\n",
      "  - defaults/osx-64::imagecodecs==2021.8.26=py39ha952a84_0\n",
      "  - defaults/osx-64::bkcharts==0.2=py39hecd8cb5_0\n",
      "  - defaults/osx-64::matplotlib-base==3.4.3=py39h0a11d32_0\n",
      "  - defaults/osx-64::numpy==1.20.3=py39h4b4dc7a_0\n",
      "  - defaults/osx-64::astropy==4.3.1=py39hf9932de_0\n",
      "  - defaults/osx-64::pywavelets==1.1.1=py39he3068b8_4\n",
      "  - defaults/osx-64::scikit-learn-intelex==2021.3.0=py39hecd8cb5_0\n",
      "  - defaults/osx-64::h5py==3.2.1=py39h90fc2a2_0\n",
      "  - defaults/osx-64::anaconda==2021.11=py39_0\n",
      "  - defaults/osx-64::pytables==3.6.1=py39h648f197_1\n",
      "  - defaults/osx-64::scikit-image==0.18.3=py39hae1ba45_0\n",
      "  - defaults/osx-64::pyerfa==2.0.0=py39h9ed2024_0\n",
      "  - defaults/osx-64::statsmodels==0.12.2=py39h9ed2024_0\n",
      "  - defaults/osx-64::numexpr==2.7.3=py39h5873af2_1\n",
      "  - defaults/osx-64::mkl_fft==1.3.1=py39h4ab4a9b_0\n",
      "  - defaults/noarch::seaborn==0.11.2=pyhd3eb1b0_0\n",
      "  - defaults/osx-64::bokeh==2.4.1=py39hecd8cb5_0\n",
      "  - defaults/noarch::dask==2021.10.0=pyhd3eb1b0_0\n",
      "  - defaults/osx-64::pandas==1.3.4=py39h743cdd8_0\n",
      "  - defaults/osx-64::matplotlib==3.4.3=py39hecd8cb5_0\n",
      "failed with initial frozen solve. Retrying with flexible solve.\n",
      "Solving environment: done\n",
      "Collecting package metadata (repodata.json): done\n",
      "Solving environment: - \n",
      "The environment is inconsistent, please check the package plan carefully\n",
      "The following packages are causing the inconsistency:\n",
      "\n",
      "  - defaults/noarch::tifffile==2021.7.2=pyhd3eb1b0_2\n",
      "  - defaults/osx-64::daal4py==2021.3.0=py39h01d92e1_0\n",
      "  - defaults/osx-64::scipy==1.7.1=py39h88652d9_2\n",
      "  - defaults/osx-64::scikit-learn==0.24.2=py39hb2f4e1b_0\n",
      "  - defaults/noarch::imageio==2.9.0=pyhd3eb1b0_0\n",
      "  - defaults/osx-64::numba==0.54.1=py39hae1ba45_0\n",
      "  - defaults/osx-64::bottleneck==1.3.2=py39he3068b8_1\n",
      "  - defaults/osx-64::mkl_random==1.2.2=py39hb2f4e1b_0\n",
      "  - defaults/noarch::featuretools==0.27.1=pyhd3eb1b0_2\n",
      "  - defaults/osx-64::patsy==0.5.2=py39hecd8cb5_0\n",
      "  - defaults/osx-64::imagecodecs==2021.8.26=py39ha952a84_0\n",
      "  - defaults/osx-64::bkcharts==0.2=py39hecd8cb5_0\n",
      "  - defaults/osx-64::matplotlib-base==3.4.3=py39h0a11d32_0\n",
      "  - defaults/osx-64::numpy==1.20.3=py39h4b4dc7a_0\n",
      "  - defaults/osx-64::astropy==4.3.1=py39hf9932de_0\n",
      "  - defaults/osx-64::pywavelets==1.1.1=py39he3068b8_4\n",
      "  - defaults/osx-64::scikit-learn-intelex==2021.3.0=py39hecd8cb5_0\n",
      "  - defaults/osx-64::h5py==3.2.1=py39h90fc2a2_0\n",
      "  - defaults/osx-64::anaconda==2021.11=py39_0\n",
      "  - defaults/osx-64::pytables==3.6.1=py39h648f197_1\n",
      "  - defaults/osx-64::scikit-image==0.18.3=py39hae1ba45_0\n",
      "  - defaults/osx-64::pyerfa==2.0.0=py39h9ed2024_0\n",
      "  - defaults/osx-64::statsmodels==0.12.2=py39h9ed2024_0\n",
      "  - defaults/osx-64::numexpr==2.7.3=py39h5873af2_1\n",
      "  - defaults/osx-64::mkl_fft==1.3.1=py39h4ab4a9b_0\n",
      "  - defaults/noarch::seaborn==0.11.2=pyhd3eb1b0_0\n",
      "  - defaults/osx-64::bokeh==2.4.1=py39hecd8cb5_0\n",
      "  - defaults/noarch::dask==2021.10.0=pyhd3eb1b0_0\n",
      "  - defaults/osx-64::conda-build==3.21.5=py39hecd8cb5_0\n",
      "  - defaults/osx-64::pandas==1.3.4=py39h743cdd8_0\n",
      "  - defaults/osx-64::matplotlib==3.4.3=py39hecd8cb5_0\n",
      "done\n",
      "\n",
      "## Package Plan ##\n",
      "\n",
      "  environment location: /Users/andygong/opt/anaconda3\n",
      "\n",
      "  added / updated specs:\n",
      "    - lightgbm\n",
      "\n",
      "\n",
      "The following packages will be downloaded:\n",
      "\n",
      "    package                    |            build\n",
      "    ---------------------------|-----------------\n",
      "    _anaconda_depends-2022.05  |           py39_0           7 KB\n",
      "    aiohttp-3.8.1              |   py39hca72f7f_1         500 KB\n",
      "    aiosignal-1.2.0            |     pyhd3eb1b0_0          12 KB\n",
      "    anaconda-custom            |           py39_1           4 KB\n",
      "    argon2-cffi-bindings-21.2.0|   py39hca72f7f_0          31 KB\n",
      "    asttokens-2.0.5            |     pyhd3eb1b0_0          20 KB\n",
      "    async-timeout-4.0.1        |     pyhd3eb1b0_0          10 KB\n",
      "    automat-20.2.0             |             py_0          31 KB\n",
      "    bcrypt-3.2.0               |   py39h9ed2024_0          41 KB\n",
      "    boto3-1.24.2               |   py39hecd8cb5_0         116 KB\n",
      "    botocore-1.27.2            |   py39hecd8cb5_0         4.6 MB\n",
      "    ca-certificates-2022.4.26  |       hecd8cb5_0         124 KB\n",
      "    cachetools-4.2.2           |     pyhd3eb1b0_0          13 KB\n",
      "    certifi-2022.5.18.1        |   py39hecd8cb5_0         148 KB\n",
      "    colorcet-3.0.0             |   py39hecd8cb5_0         1.8 MB\n",
      "    conda-4.13.0               |   py39hecd8cb5_0         906 KB\n",
      "    conda-build-3.21.9         |   py39hecd8cb5_0         534 KB\n",
      "    constantly-15.1.0          |     pyh2b92418_0          10 KB\n",
      "    cssselect-1.1.0            |     pyhd3eb1b0_0          18 KB\n",
      "    datashader-0.13.0          |     pyhd3eb1b0_1        14.0 MB\n",
      "    datashape-0.5.4            |   py39hecd8cb5_1         103 KB\n",
      "    executing-0.8.3            |     pyhd3eb1b0_0          18 KB\n",
      "    frozenlist-1.2.0           |   py39hca72f7f_0          72 KB\n",
      "    gensim-3.8.3               |   py39h23ab428_2        18.4 MB\n",
      "    google-api-core-2.2.2      |     pyhd3eb1b0_0          69 KB\n",
      "    google-auth-2.6.0          |     pyhd3eb1b0_0          83 KB\n",
      "    google-cloud-core-2.2.2    |     pyhd3eb1b0_0          26 KB\n",
      "    google-cloud-storage-1.43.0|   py39hecd8cb5_0         122 KB\n",
      "    google-crc32c-1.1.2        |   py39h9ed2024_0          21 KB\n",
      "    google-resumable-media-1.3.1|     pyhd3eb1b0_1          41 KB\n",
      "    googleapis-common-protos-1.53.0|   py39hecd8cb5_0         135 KB\n",
      "    grpcio-1.42.0              |   py39ha29bfda_0         1.9 MB\n",
      "    holoviews-1.14.8           |     pyhd3eb1b0_0         3.2 MB\n",
      "    hvplot-0.7.3               |     pyhd3eb1b0_1         2.9 MB\n",
      "    hyperlink-21.0.0           |     pyhd3eb1b0_0          70 KB\n",
      "    incremental-21.3.0         |     pyhd3eb1b0_0          17 KB\n",
      "    intake-0.6.5               |     pyhd3eb1b0_0         178 KB\n",
      "    itemadapter-0.3.0          |     pyhd3eb1b0_0          13 KB\n",
      "    itemloaders-1.0.4          |     pyhd3eb1b0_1          14 KB\n",
      "    jmespath-0.10.0            |     pyhd3eb1b0_0          22 KB\n",
      "    jq-1.6                     |    h9ed2024_1000         245 KB\n",
      "    libcrc32c-1.1.1            |       hb1e8313_2          20 KB\n",
      "    libidn2-2.3.2              |       h9ed2024_0          85 KB\n",
      "    libprotobuf-3.19.1         |       h8346a28_0         1.8 MB\n",
      "    libunistring-0.9.10        |       h9ed2024_0         519 KB\n",
      "    lightgbm-3.2.1             |   py39h23ab428_0         996 KB\n",
      "    markdown-3.3.4             |   py39hecd8cb5_0         127 KB\n",
      "    multidict-5.2.0            |   py39hca72f7f_2          56 KB\n",
      "    oniguruma-6.9.7.1          |       h9ed2024_0         216 KB\n",
      "    openssl-1.1.1o             |       hca72f7f_0         2.2 MB\n",
      "    panel-0.13.0               |   py39hecd8cb5_0        10.9 MB\n",
      "    param-1.12.0               |     pyhd3eb1b0_0          75 KB\n",
      "    parsel-1.6.0               |   py39hecd8cb5_0         351 KB\n",
      "    protego-0.1.16             |             py_0         2.2 MB\n",
      "    protobuf-3.19.1            |   py39he9d5cce_0         297 KB\n",
      "    pure_eval-0.2.2            |     pyhd3eb1b0_0          14 KB\n",
      "    pyasn1-0.4.8               |     pyhd3eb1b0_0          54 KB\n",
      "    pyasn1-modules-0.2.8       |             py_0          72 KB\n",
      "    pyct-0.4.6                 |   py39hecd8cb5_0          23 KB\n",
      "    pydispatcher-2.0.5         |   py39hecd8cb5_2          20 KB\n",
      "    pyhamcrest-2.0.2           |     pyhd3eb1b0_2          31 KB\n",
      "    python-fastjsonschema-2.15.1|     pyhd3eb1b0_0          29 KB\n",
      "    python-snappy-0.6.0        |   py39h23ab428_3          28 KB\n",
      "    pyviz_comms-2.0.2          |     pyhd3eb1b0_0          23 KB\n",
      "    queuelib-1.5.0             |   py39hecd8cb5_0         258 KB\n",
      "    requests-file-1.5.1        |     pyhd3eb1b0_0           8 KB\n",
      "    rsa-4.7.2                  |     pyhd3eb1b0_1          28 KB\n",
      "    s3transfer-0.6.0           |   py39hecd8cb5_0         105 KB\n",
      "    scrapy-2.6.1               |   py39hecd8cb5_0         373 KB\n",
      "    service_identity-18.1.0    |     pyhd3eb1b0_1          13 KB\n",
      "    smart_open-5.2.1           |   py39hecd8cb5_0          77 KB\n",
      "    stack_data-0.2.0           |     pyhd3eb1b0_0          22 KB\n",
      "    tabulate-0.8.9             |   py39hecd8cb5_0          40 KB\n",
      "    tldextract-3.2.0           |     pyhd3eb1b0_0          81 KB\n",
      "    tomli-1.2.2                |     pyhd3eb1b0_0          17 KB\n",
      "    twisted-22.2.0             |   py39hca72f7f_0         4.1 MB\n",
      "    typing-extensions-3.10.0.2 |       hd3eb1b0_0          12 KB\n",
      "    w3lib-1.21.0               |     pyhd3eb1b0_0          22 KB\n",
      "    websocket-client-0.58.0    |   py39hecd8cb5_4          67 KB\n",
      "    wget-1.20.1                |       h051b688_0         479 KB\n",
      "    xarray-0.20.1              |     pyhd3eb1b0_1         563 KB\n",
      "    yarl-1.6.3                 |   py39h9ed2024_0         125 KB\n",
      "    ------------------------------------------------------------\n",
      "                                           Total:        77.0 MB\n",
      "\n",
      "The following NEW packages will be INSTALLED:\n",
      "\n",
      "  _anaconda_depends  pkgs/main/osx-64::_anaconda_depends-2022.05-py39_0\n",
      "  aiohttp            pkgs/main/osx-64::aiohttp-3.8.1-py39hca72f7f_1\n",
      "  aiosignal          pkgs/main/noarch::aiosignal-1.2.0-pyhd3eb1b0_0\n",
      "  argon2-cffi-bindi~ pkgs/main/osx-64::argon2-cffi-bindings-21.2.0-py39hca72f7f_0\n",
      "  asttokens          pkgs/main/noarch::asttokens-2.0.5-pyhd3eb1b0_0\n",
      "  async-timeout      pkgs/main/noarch::async-timeout-4.0.1-pyhd3eb1b0_0\n",
      "  automat            pkgs/main/noarch::automat-20.2.0-py_0\n",
      "  bcrypt             pkgs/main/osx-64::bcrypt-3.2.0-py39h9ed2024_0\n",
      "  boto3              pkgs/main/osx-64::boto3-1.24.2-py39hecd8cb5_0\n",
      "  botocore           pkgs/main/osx-64::botocore-1.27.2-py39hecd8cb5_0\n",
      "  cachetools         pkgs/main/noarch::cachetools-4.2.2-pyhd3eb1b0_0\n",
      "  colorcet           pkgs/main/osx-64::colorcet-3.0.0-py39hecd8cb5_0\n",
      "  constantly         pkgs/main/noarch::constantly-15.1.0-pyh2b92418_0\n",
      "  cssselect          pkgs/main/noarch::cssselect-1.1.0-pyhd3eb1b0_0\n",
      "  datashader         pkgs/main/noarch::datashader-0.13.0-pyhd3eb1b0_1\n",
      "  datashape          pkgs/main/osx-64::datashape-0.5.4-py39hecd8cb5_1\n",
      "  executing          pkgs/main/noarch::executing-0.8.3-pyhd3eb1b0_0\n",
      "  frozenlist         pkgs/main/osx-64::frozenlist-1.2.0-py39hca72f7f_0\n",
      "  gensim             pkgs/main/osx-64::gensim-3.8.3-py39h23ab428_2\n",
      "  google-api-core    pkgs/main/noarch::google-api-core-2.2.2-pyhd3eb1b0_0\n",
      "  google-auth        pkgs/main/noarch::google-auth-2.6.0-pyhd3eb1b0_0\n",
      "  google-cloud-core  pkgs/main/noarch::google-cloud-core-2.2.2-pyhd3eb1b0_0\n",
      "  google-cloud-stor~ pkgs/main/osx-64::google-cloud-storage-1.43.0-py39hecd8cb5_0\n",
      "  google-crc32c      pkgs/main/osx-64::google-crc32c-1.1.2-py39h9ed2024_0\n",
      "  google-resumable-~ pkgs/main/noarch::google-resumable-media-1.3.1-pyhd3eb1b0_1\n",
      "  googleapis-common~ pkgs/main/osx-64::googleapis-common-protos-1.53.0-py39hecd8cb5_0\n",
      "  grpcio             pkgs/main/osx-64::grpcio-1.42.0-py39ha29bfda_0\n",
      "  holoviews          pkgs/main/noarch::holoviews-1.14.8-pyhd3eb1b0_0\n",
      "  hvplot             pkgs/main/noarch::hvplot-0.7.3-pyhd3eb1b0_1\n",
      "  hyperlink          pkgs/main/noarch::hyperlink-21.0.0-pyhd3eb1b0_0\n",
      "  incremental        pkgs/main/noarch::incremental-21.3.0-pyhd3eb1b0_0\n",
      "  intake             pkgs/main/noarch::intake-0.6.5-pyhd3eb1b0_0\n",
      "  itemadapter        pkgs/main/noarch::itemadapter-0.3.0-pyhd3eb1b0_0\n",
      "  itemloaders        pkgs/main/noarch::itemloaders-1.0.4-pyhd3eb1b0_1\n",
      "  jmespath           pkgs/main/noarch::jmespath-0.10.0-pyhd3eb1b0_0\n",
      "  jq                 pkgs/main/osx-64::jq-1.6-h9ed2024_1000\n",
      "  libcrc32c          pkgs/main/osx-64::libcrc32c-1.1.1-hb1e8313_2\n",
      "  libidn2            pkgs/main/osx-64::libidn2-2.3.2-h9ed2024_0\n",
      "  libprotobuf        pkgs/main/osx-64::libprotobuf-3.19.1-h8346a28_0\n",
      "  libunistring       pkgs/main/osx-64::libunistring-0.9.10-h9ed2024_0\n",
      "  lightgbm           pkgs/main/osx-64::lightgbm-3.2.1-py39h23ab428_0\n",
      "  markdown           pkgs/main/osx-64::markdown-3.3.4-py39hecd8cb5_0\n",
      "  multidict          pkgs/main/osx-64::multidict-5.2.0-py39hca72f7f_2\n",
      "  numpy-base         pkgs/main/osx-64::numpy-base-1.20.3-py39he0bd621_0\n",
      "  oniguruma          pkgs/main/osx-64::oniguruma-6.9.7.1-h9ed2024_0\n",
      "  panel              pkgs/main/osx-64::panel-0.13.0-py39hecd8cb5_0\n",
      "  param              pkgs/main/noarch::param-1.12.0-pyhd3eb1b0_0\n",
      "  parsel             pkgs/main/osx-64::parsel-1.6.0-py39hecd8cb5_0\n",
      "  protego            pkgs/main/noarch::protego-0.1.16-py_0\n",
      "  protobuf           pkgs/main/osx-64::protobuf-3.19.1-py39he9d5cce_0\n",
      "  pure_eval          pkgs/main/noarch::pure_eval-0.2.2-pyhd3eb1b0_0\n",
      "  pyasn1             pkgs/main/noarch::pyasn1-0.4.8-pyhd3eb1b0_0\n",
      "  pyasn1-modules     pkgs/main/noarch::pyasn1-modules-0.2.8-py_0\n",
      "  pyct               pkgs/main/osx-64::pyct-0.4.6-py39hecd8cb5_0\n",
      "  pydispatcher       pkgs/main/osx-64::pydispatcher-2.0.5-py39hecd8cb5_2\n",
      "  pyhamcrest         pkgs/main/noarch::pyhamcrest-2.0.2-pyhd3eb1b0_2\n",
      "  python-fastjsonsc~ pkgs/main/noarch::python-fastjsonschema-2.15.1-pyhd3eb1b0_0\n",
      "  python-snappy      pkgs/main/osx-64::python-snappy-0.6.0-py39h23ab428_3\n",
      "  pyviz_comms        pkgs/main/noarch::pyviz_comms-2.0.2-pyhd3eb1b0_0\n",
      "  queuelib           pkgs/main/osx-64::queuelib-1.5.0-py39hecd8cb5_0\n",
      "  requests-file      pkgs/main/noarch::requests-file-1.5.1-pyhd3eb1b0_0\n",
      "  rsa                pkgs/main/noarch::rsa-4.7.2-pyhd3eb1b0_1\n",
      "  s3transfer         pkgs/main/osx-64::s3transfer-0.6.0-py39hecd8cb5_0\n",
      "  scrapy             pkgs/main/osx-64::scrapy-2.6.1-py39hecd8cb5_0\n",
      "  service_identity   pkgs/main/noarch::service_identity-18.1.0-pyhd3eb1b0_1\n",
      "  smart_open         pkgs/main/osx-64::smart_open-5.2.1-py39hecd8cb5_0\n",
      "  stack_data         pkgs/main/noarch::stack_data-0.2.0-pyhd3eb1b0_0\n",
      "  tabulate           pkgs/main/osx-64::tabulate-0.8.9-py39hecd8cb5_0\n",
      "  tldextract         pkgs/main/noarch::tldextract-3.2.0-pyhd3eb1b0_0\n",
      "  tomli              pkgs/main/noarch::tomli-1.2.2-pyhd3eb1b0_0\n",
      "  twisted            pkgs/main/osx-64::twisted-22.2.0-py39hca72f7f_0\n",
      "  typing-extensions  pkgs/main/noarch::typing-extensions-3.10.0.2-hd3eb1b0_0\n",
      "  w3lib              pkgs/main/noarch::w3lib-1.21.0-pyhd3eb1b0_0\n",
      "  websocket-client   pkgs/main/osx-64::websocket-client-0.58.0-py39hecd8cb5_4\n",
      "  wget               pkgs/main/osx-64::wget-1.20.1-h051b688_0\n",
      "  xarray             pkgs/main/noarch::xarray-0.20.1-pyhd3eb1b0_1\n",
      "  yarl               pkgs/main/osx-64::yarl-1.6.3-py39h9ed2024_0\n",
      "\n",
      "The following packages will be UPDATED:\n",
      "\n",
      "  ca-certificates    anaconda::ca-certificates-2021.10.26-~ --> pkgs/main::ca-certificates-2022.4.26-hecd8cb5_0\n",
      "  certifi            anaconda::certifi-2021.10.8-py39hecd8~ --> pkgs/main::certifi-2022.5.18.1-py39hecd8cb5_0\n",
      "  conda-build                         3.21.5-py39hecd8cb5_0 --> 3.21.9-py39hecd8cb5_0\n",
      "  openssl               anaconda::openssl-1.1.1l-h9ed2024_0 --> pkgs/main::openssl-1.1.1o-hca72f7f_0\n",
      "\n",
      "The following packages will be SUPERSEDED by a higher-priority channel:\n",
      "\n",
      "  conda              conda-forge::conda-4.13.0-py39h6e9494~ --> pkgs/main::conda-4.13.0-py39hecd8cb5_0\n",
      "\n",
      "The following packages will be DOWNGRADED:\n",
      "\n",
      "  anaconda                                   2021.11-py39_0 --> custom-py39_1\n",
      "\n",
      "\n",
      "\n",
      "Downloading and Extracting Packages\n"
     ]
    },
    {
     "name": "stdout",
     "output_type": "stream",
     "text": [
      "conda-4.13.0         | 906 KB    | ##################################### | 100% \n",
      "datashape-0.5.4      | 103 KB    | ##################################### | 100% \n",
      "frozenlist-1.2.0     | 72 KB     | ##################################### | 100% \n",
      "openssl-1.1.1o       | 2.2 MB    | ##################################### | 100% \n",
      "markdown-3.3.4       | 127 KB    | ##################################### | 100% \n",
      "multidict-5.2.0      | 56 KB     | ##################################### | 100% \n",
      "cachetools-4.2.2     | 13 KB     | ##################################### | 100% \n",
      "libcrc32c-1.1.1      | 20 KB     | ##################################### | 100% \n",
      "datashader-0.13.0    | 14.0 MB   | ##################################### | 100% \n",
      "google-cloud-storage | 122 KB    | ##################################### | 100% \n",
      "websocket-client-0.5 | 67 KB     | ##################################### | 100% \n",
      "google-auth-2.6.0    | 83 KB     | ##################################### | 100% \n",
      "itemadapter-0.3.0    | 13 KB     | ##################################### | 100% \n",
      "python-fastjsonschem | 29 KB     | ##################################### | 100% \n",
      "tabulate-0.8.9       | 40 KB     | ##################################### | 100% \n",
      "pyhamcrest-2.0.2     | 31 KB     | ##################################### | 100% \n",
      "constantly-15.1.0    | 10 KB     | ##################################### | 100% \n",
      "xarray-0.20.1        | 563 KB    | ##################################### | 100% \n",
      "colorcet-3.0.0       | 1.8 MB    | ##################################### | 100% \n",
      "libidn2-2.3.2        | 85 KB     | ##################################### | 100% \n",
      "libprotobuf-3.19.1   | 1.8 MB    | ##################################### | 100% \n",
      "google-api-core-2.2. | 69 KB     | ##################################### | 100% \n",
      "hyperlink-21.0.0     | 70 KB     | ##################################### | 100% \n",
      "hvplot-0.7.3         | 2.9 MB    | ##################################### | 100% \n",
      "oniguruma-6.9.7.1    | 216 KB    | ##################################### | 100% \n",
      "incremental-21.3.0   | 17 KB     | ##################################### | 100% \n",
      "certifi-2022.5.18.1  | 148 KB    | ##################################### | 100% \n",
      "tomli-1.2.2          | 17 KB     | ##################################### | 100% \n",
      "smart_open-5.2.1     | 77 KB     | ##################################### | 100% \n",
      "googleapis-common-pr | 135 KB    | ##################################### | 100% \n",
      "anaconda-custom      | 4 KB      | ##################################### | 100% \n",
      "w3lib-1.21.0         | 22 KB     | ##################################### | 100% \n",
      "pure_eval-0.2.2      | 14 KB     | ##################################### | 100% \n",
      "_anaconda_depends-20 | 7 KB      | ##################################### | 100% \n",
      "bcrypt-3.2.0         | 41 KB     | ##################################### | 100% \n",
      "intake-0.6.5         | 178 KB    | ##################################### | 100% \n",
      "pyct-0.4.6           | 23 KB     | ##################################### | 100% \n",
      "rsa-4.7.2            | 28 KB     | ##################################### | 100% \n",
      "parsel-1.6.0         | 351 KB    | ##################################### | 100% \n",
      "google-crc32c-1.1.2  | 21 KB     | ##################################### | 100% \n",
      "aiosignal-1.2.0      | 12 KB     | ##################################### | 100% \n",
      "twisted-22.2.0       | 4.1 MB    | ##################################### | 100% \n",
      "service_identity-18. | 13 KB     | ##################################### | 100% \n",
      "automat-20.2.0       | 31 KB     | ##################################### | 100% \n",
      "lightgbm-3.2.1       | 996 KB    | ##################################### | 100% \n",
      "jmespath-0.10.0      | 22 KB     | ##################################### | 100% \n",
      "cssselect-1.1.0      | 18 KB     | ##################################### | 100% \n",
      "asttokens-2.0.5      | 20 KB     | ##################################### | 100% \n",
      "holoviews-1.14.8     | 3.2 MB    | ##################################### | 100% \n",
      "protobuf-3.19.1      | 297 KB    | ##################################### | 100% \n",
      "gensim-3.8.3         | 18.4 MB   | ##################################### | 100% \n",
      "itemloaders-1.0.4    | 14 KB     | ##################################### | 100% \n",
      "google-resumable-med | 41 KB     | ##################################### | 100% \n",
      "aiohttp-3.8.1        | 500 KB    | ##################################### | 100% \n",
      "requests-file-1.5.1  | 8 KB      | ##################################### | 100% \n",
      "pyasn1-modules-0.2.8 | 72 KB     | ##################################### | 100% \n",
      "boto3-1.24.2         | 116 KB    | ##################################### | 100% \n",
      "protego-0.1.16       | 2.2 MB    | ##################################### | 100% \n",
      "stack_data-0.2.0     | 22 KB     | ##################################### | 100% \n",
      "s3transfer-0.6.0     | 105 KB    | ##################################### | 100% \n",
      "executing-0.8.3      | 18 KB     | ##################################### | 100% \n",
      "scrapy-2.6.1         | 373 KB    | ##################################### | 100% \n",
      "panel-0.13.0         | 10.9 MB   | ##################################### | 100% \n",
      "queuelib-1.5.0       | 258 KB    | ##################################### | 100% \n",
      "pydispatcher-2.0.5   | 20 KB     | ##################################### | 100% \n",
      "argon2-cffi-bindings | 31 KB     | ##################################### | 100% \n",
      "grpcio-1.42.0        | 1.9 MB    | ##################################### | 100% \n",
      "typing-extensions-3. | 12 KB     | ##################################### | 100% \n",
      "google-cloud-core-2. | 26 KB     | ##################################### | 100% \n",
      "conda-build-3.21.9   | 534 KB    | ##################################### | 100% \n",
      "wget-1.20.1          | 479 KB    | ##################################### | 100% \n",
      "python-snappy-0.6.0  | 28 KB     | ##################################### | 100% \n",
      "libunistring-0.9.10  | 519 KB    | ##################################### | 100% \n",
      "yarl-1.6.3           | 125 KB    | ##################################### | 100% \n",
      "pyviz_comms-2.0.2    | 23 KB     | ##################################### | 100% \n",
      "pyasn1-0.4.8         | 54 KB     | ##################################### | 100% \n",
      "jq-1.6               | 245 KB    | ##################################### | 100% \n",
      "tldextract-3.2.0     | 81 KB     | ##################################### | 100% \n",
      "botocore-1.27.2      | 4.6 MB    | ##################################### | 100% \n",
      "param-1.12.0         | 75 KB     | ##################################### | 100% \n",
      "async-timeout-4.0.1  | 10 KB     | ##################################### | 100% \n",
      "ca-certificates-2022 | 124 KB    | ##################################### | 100% \n",
      "Preparing transaction: done\n",
      "Verifying transaction: done\n",
      "Executing transaction: done\n",
      "\n",
      "Note: you may need to restart the kernel to use updated packages.\n"
     ]
    }
   ],
   "source": [
    "conda install lightgbm"
   ]
  },
  {
   "cell_type": "code",
   "execution_count": 3,
   "metadata": {},
   "outputs": [
    {
     "name": "stdout",
     "output_type": "stream",
     "text": [
      "Collecting catboost\n",
      "  Downloading catboost-1.0.6-cp39-none-macosx_10_6_universal2.whl (22.0 MB)\n",
      "\u001b[K     |████████████████████████████████| 22.0 MB 3.0 MB/s eta 0:00:01\n",
      "\u001b[?25hRequirement already satisfied: numpy>=1.16.0 in /Users/andygong/opt/anaconda3/lib/python3.9/site-packages (from catboost) (1.22.4)\n",
      "Requirement already satisfied: pandas>=0.24.0 in /Users/andygong/opt/anaconda3/lib/python3.9/site-packages (from catboost) (1.3.4)\n",
      "Requirement already satisfied: matplotlib in /Users/andygong/opt/anaconda3/lib/python3.9/site-packages (from catboost) (3.4.3)\n",
      "Requirement already satisfied: six in /Users/andygong/opt/anaconda3/lib/python3.9/site-packages (from catboost) (1.16.0)\n",
      "Requirement already satisfied: scipy in /Users/andygong/opt/anaconda3/lib/python3.9/site-packages (from catboost) (1.7.1)\n",
      "Requirement already satisfied: graphviz in /Users/andygong/opt/anaconda3/lib/python3.9/site-packages (from catboost) (0.16)\n",
      "Requirement already satisfied: plotly in /Users/andygong/opt/anaconda3/lib/python3.9/site-packages (from catboost) (5.8.0)\n",
      "Requirement already satisfied: python-dateutil>=2.7.3 in /Users/andygong/opt/anaconda3/lib/python3.9/site-packages (from pandas>=0.24.0->catboost) (2.8.2)\n",
      "Requirement already satisfied: pytz>=2017.3 in /Users/andygong/opt/anaconda3/lib/python3.9/site-packages (from pandas>=0.24.0->catboost) (2021.3)\n",
      "Requirement already satisfied: pyparsing>=2.2.1 in /Users/andygong/opt/anaconda3/lib/python3.9/site-packages (from matplotlib->catboost) (3.0.4)\n",
      "Requirement already satisfied: pillow>=6.2.0 in /Users/andygong/opt/anaconda3/lib/python3.9/site-packages (from matplotlib->catboost) (8.4.0)\n",
      "Requirement already satisfied: cycler>=0.10 in /Users/andygong/opt/anaconda3/lib/python3.9/site-packages (from matplotlib->catboost) (0.10.0)\n",
      "Requirement already satisfied: kiwisolver>=1.0.1 in /Users/andygong/opt/anaconda3/lib/python3.9/site-packages (from matplotlib->catboost) (1.3.1)\n",
      "Requirement already satisfied: tenacity>=6.2.0 in /Users/andygong/opt/anaconda3/lib/python3.9/site-packages (from plotly->catboost) (8.0.1)\n",
      "Installing collected packages: catboost\n",
      "Successfully installed catboost-1.0.6\n"
     ]
    }
   ],
   "source": [
    "!pip install catboost"
   ]
  },
  {
   "cell_type": "code",
   "execution_count": 4,
   "metadata": {
    "ExecuteTime": {
     "end_time": "2019-04-22T16:39:09.312682Z",
     "start_time": "2019-04-22T16:39:09.309208Z"
    },
    "_kg_hide-input": true,
    "colab": {},
    "colab_type": "code",
    "id": "l9nfFTyj-KYY"
   },
   "outputs": [],
   "source": [
    "import warnings\n",
    "warnings.filterwarnings('ignore')\n",
    "from sklearn.preprocessing import LabelEncoder\n",
    "import numpy as np\n",
    "import pandas as pd\n",
    "import lightgbm\n",
    "from bayes_opt import BayesianOptimization\n",
    "from catboost import CatBoostClassifier, cv, Pool"
   ]
  },
  {
   "cell_type": "code",
   "execution_count": 5,
   "metadata": {
    "colab": {
     "base_uri": "https://localhost:8080/",
     "height": 85
    },
    "colab_type": "code",
    "id": "D16Dquw1AAK0",
    "outputId": "44167587-f22e-4bf5-a816-e2bcfdc6c4ee"
   },
   "outputs": [
    {
     "data": {
      "text/plain": [
       "['flight_delays_test.csv.zip',\n",
       " '.DS_Store',\n",
       " 'flight_delays_test.csv',\n",
       " 'Bayesian_optimization_case_study.ipynb',\n",
       " 'flight_delays_train.csv.zip',\n",
       " 'flight_delays_train.csv',\n",
       " '.ipynb_checkpoints']"
      ]
     },
     "execution_count": 5,
     "metadata": {},
     "output_type": "execute_result"
    }
   ],
   "source": [
    "import os\n",
    "os.listdir()"
   ]
  },
  {
   "cell_type": "markdown",
   "metadata": {
    "ExecuteTime": {
     "end_time": "2019-04-22T14:48:15.929012Z",
     "start_time": "2019-04-22T14:48:15.926574Z"
    },
    "colab_type": "text",
    "id": "AkBt3yds-KYu"
   },
   "source": [
    "## How does Bayesian optimization work?"
   ]
  },
  {
   "cell_type": "markdown",
   "metadata": {
    "colab_type": "text",
    "id": "E1kyBCUs-KYv"
   },
   "source": [
    "Bayesian optimization works by constructing a posterior distribution of functions (Gaussian process) that best describes the function you want to optimize. As the number of observations grows, the posterior distribution improves, and the algorithm becomes more certain of which regions in parameter space are worth exploring and which are not, as seen in the picture below."
   ]
  },
  {
   "cell_type": "markdown",
   "metadata": {
    "colab_type": "text",
    "id": "gAdHF72R-KYw"
   },
   "source": [
    "<img src=\"https://github.com/fmfn/BayesianOptimization/blob/master/examples/bo_example.png?raw=true\" />\n",
    "As you iterate over and over, the algorithm balances its needs of exploration and exploitation while taking into account what it knows about the target function. At each step, a Gaussian Process is fitted to the known samples (points previously explored), and the posterior distribution, combined with an exploration strategy (such as UCB — aka Upper Confidence Bound), or EI (Expected Improvement). This process is used to determine the next point that should be explored (see the gif below).\n",
    "<img src=\"https://github.com/fmfn/BayesianOptimization/raw/master/examples/bayesian_optimization.gif\" />"
   ]
  },
  {
   "cell_type": "markdown",
   "metadata": {
    "colab_type": "text",
    "id": "RTP8KUlLoYzu"
   },
   "source": [
    "## Let's look at a simple example"
   ]
  },
  {
   "cell_type": "markdown",
   "metadata": {
    "colab_type": "text",
    "id": "crpPqKdC-KYx"
   },
   "source": [
    "The first step is to create an optimizer. It uses two items:\n",
    "* function to optimize\n",
    "* bounds of parameters\n",
    "\n",
    "The function is the procedure that counts metrics of our model quality. The important thing is that our optimization will maximize the value on function. Smaller metrics are best. Hint: don't forget to use negative metric values."
   ]
  },
  {
   "cell_type": "markdown",
   "metadata": {
    "colab_type": "text",
    "id": "e09ciF8gpTfr"
   },
   "source": [
    "Here we define our simple function we want to optimize."
   ]
  },
  {
   "cell_type": "code",
   "execution_count": 6,
   "metadata": {
    "colab": {},
    "colab_type": "code",
    "id": "ofwvnfEwo5mG"
   },
   "outputs": [],
   "source": [
    "def simple_func(a, b):\n",
    "    return a + b"
   ]
  },
  {
   "cell_type": "markdown",
   "metadata": {
    "colab_type": "text",
    "id": "XCGsdciCpeI3"
   },
   "source": [
    "Now, we define our bounds of the parameters to optimize, within the Bayesian optimizer."
   ]
  },
  {
   "cell_type": "code",
   "execution_count": 7,
   "metadata": {
    "colab": {},
    "colab_type": "code",
    "id": "4jLYW2qnpOFr"
   },
   "outputs": [],
   "source": [
    "optimizer = BayesianOptimization(\n",
    "    simple_func,\n",
    "    {'a': (1, 3),\n",
    "    'b': (4, 7)})"
   ]
  },
  {
   "cell_type": "markdown",
   "metadata": {
    "colab_type": "text",
    "id": "dg6LdYx8pq2T"
   },
   "source": [
    "These are the main parameters of this function:\n",
    "\n",
    "* **n_iter:** This is how many steps of Bayesian optimization you want to perform. The more steps, the more likely you are to find a good maximum.\n",
    "\n",
    "* **init_points:** This is how many steps of random exploration you want to perform. Random exploration can help by diversifying the exploration space."
   ]
  },
  {
   "cell_type": "markdown",
   "metadata": {
    "colab_type": "text",
    "id": "i-GKMJ1uqMYv"
   },
   "source": [
    "Let's run an example where we use the optimizer to find the best values to maximize the target value for a and b given the inputs of 3 and 2."
   ]
  },
  {
   "cell_type": "code",
   "execution_count": 8,
   "metadata": {
    "colab": {
     "base_uri": "https://localhost:8080/",
     "height": 153
    },
    "colab_type": "code",
    "id": "Oy44Ro7wqNat",
    "outputId": "9cc64d54-b1e6-46d1-dc29-4c0039a1c72d"
   },
   "outputs": [
    {
     "name": "stdout",
     "output_type": "stream",
     "text": [
      "|   iter    |  target   |     a     |     b     |\n",
      "-------------------------------------------------\n",
      "| \u001b[0m 1       \u001b[0m | \u001b[0m 6.976   \u001b[0m | \u001b[0m 1.916   \u001b[0m | \u001b[0m 5.059   \u001b[0m |\n",
      "| \u001b[95m 2       \u001b[0m | \u001b[95m 8.916   \u001b[0m | \u001b[95m 2.288   \u001b[0m | \u001b[95m 6.628   \u001b[0m |\n",
      "| \u001b[0m 3       \u001b[0m | \u001b[0m 5.621   \u001b[0m | \u001b[0m 1.371   \u001b[0m | \u001b[0m 4.251   \u001b[0m |\n",
      "| \u001b[0m 4       \u001b[0m | \u001b[0m 8.0     \u001b[0m | \u001b[0m 1.0     \u001b[0m | \u001b[0m 7.0     \u001b[0m |\n",
      "| \u001b[95m 5       \u001b[0m | \u001b[95m 10.0    \u001b[0m | \u001b[95m 3.0     \u001b[0m | \u001b[95m 7.0     \u001b[0m |\n",
      "=================================================\n"
     ]
    }
   ],
   "source": [
    "optimizer.maximize(3,2)"
   ]
  },
  {
   "cell_type": "markdown",
   "metadata": {
    "colab_type": "text",
    "id": "tyKFMF2Hq2Sx"
   },
   "source": [
    "Great, now let's print the best parameters and the associated maximized target."
   ]
  },
  {
   "cell_type": "code",
   "execution_count": 9,
   "metadata": {
    "colab": {
     "base_uri": "https://localhost:8080/",
     "height": 51
    },
    "colab_type": "code",
    "id": "_H6DixyfscV_",
    "outputId": "fd0c35d7-e30d-4d30-9ab2-12c0fa837971"
   },
   "outputs": [
    {
     "name": "stdout",
     "output_type": "stream",
     "text": [
      "{'a': 3.0, 'b': 7.0}\n"
     ]
    },
    {
     "data": {
      "text/plain": [
       "10.0"
      ]
     },
     "execution_count": 9,
     "metadata": {},
     "output_type": "execute_result"
    }
   ],
   "source": [
    "print(optimizer.max['params']);optimizer.max['target']"
   ]
  },
  {
   "cell_type": "markdown",
   "metadata": {
    "colab_type": "text",
    "id": "tQ1T1V6Mspi4"
   },
   "source": [
    "## Test it on real data using the Light GBM"
   ]
  },
  {
   "cell_type": "markdown",
   "metadata": {
    "colab_type": "text",
    "id": "y_oGwREZkm4h"
   },
   "source": [
    "The dataset we will be working with is the famous flight departures dataset. Our modeling goal will be to predict if a flight departure is going to be delayed by 15 minutes based on the other attributes in our dataset. As part of this modeling exercise, we will use Bayesian hyperparameter optimization to identify the best parameters for our model."
   ]
  },
  {
   "cell_type": "markdown",
   "metadata": {
    "colab_type": "text",
    "id": "abYSagjQANDZ"
   },
   "source": [
    "**<font color='teal'> You can load the zipped csv files just as you would regular csv files using Pandas read_csv. In the next cell load the train and test data into two seperate dataframes. </font>**\n"
   ]
  },
  {
   "cell_type": "code",
   "execution_count": 10,
   "metadata": {
    "colab": {},
    "colab_type": "code",
    "id": "EWKBApVuAeJe"
   },
   "outputs": [],
   "source": [
    "train_df = pd.read_csv('flight_delays_train.csv.zip')\n",
    "test_df = pd.read_csv('flight_delays_test.csv.zip')"
   ]
  },
  {
   "cell_type": "markdown",
   "metadata": {
    "colab_type": "text",
    "id": "OapNcT9Eikis"
   },
   "source": [
    "**<font color='teal'> Print the top five rows of the train dataframe and review the columns in the data. </font>**"
   ]
  },
  {
   "cell_type": "code",
   "execution_count": 11,
   "metadata": {
    "colab": {
     "base_uri": "https://localhost:8080/",
     "height": 204
    },
    "colab_type": "code",
    "id": "__4cXZ8iiYaC",
    "outputId": "8718ad4b-8955-486c-9ae8-1dee6aa6c2fb"
   },
   "outputs": [
    {
     "data": {
      "text/html": [
       "<div>\n",
       "<style scoped>\n",
       "    .dataframe tbody tr th:only-of-type {\n",
       "        vertical-align: middle;\n",
       "    }\n",
       "\n",
       "    .dataframe tbody tr th {\n",
       "        vertical-align: top;\n",
       "    }\n",
       "\n",
       "    .dataframe thead th {\n",
       "        text-align: right;\n",
       "    }\n",
       "</style>\n",
       "<table border=\"1\" class=\"dataframe\">\n",
       "  <thead>\n",
       "    <tr style=\"text-align: right;\">\n",
       "      <th></th>\n",
       "      <th>Month</th>\n",
       "      <th>DayofMonth</th>\n",
       "      <th>DayOfWeek</th>\n",
       "      <th>DepTime</th>\n",
       "      <th>UniqueCarrier</th>\n",
       "      <th>Origin</th>\n",
       "      <th>Dest</th>\n",
       "      <th>Distance</th>\n",
       "      <th>dep_delayed_15min</th>\n",
       "    </tr>\n",
       "  </thead>\n",
       "  <tbody>\n",
       "    <tr>\n",
       "      <th>0</th>\n",
       "      <td>c-8</td>\n",
       "      <td>c-21</td>\n",
       "      <td>c-7</td>\n",
       "      <td>1934</td>\n",
       "      <td>AA</td>\n",
       "      <td>ATL</td>\n",
       "      <td>DFW</td>\n",
       "      <td>732</td>\n",
       "      <td>N</td>\n",
       "    </tr>\n",
       "    <tr>\n",
       "      <th>1</th>\n",
       "      <td>c-4</td>\n",
       "      <td>c-20</td>\n",
       "      <td>c-3</td>\n",
       "      <td>1548</td>\n",
       "      <td>US</td>\n",
       "      <td>PIT</td>\n",
       "      <td>MCO</td>\n",
       "      <td>834</td>\n",
       "      <td>N</td>\n",
       "    </tr>\n",
       "    <tr>\n",
       "      <th>2</th>\n",
       "      <td>c-9</td>\n",
       "      <td>c-2</td>\n",
       "      <td>c-5</td>\n",
       "      <td>1422</td>\n",
       "      <td>XE</td>\n",
       "      <td>RDU</td>\n",
       "      <td>CLE</td>\n",
       "      <td>416</td>\n",
       "      <td>N</td>\n",
       "    </tr>\n",
       "    <tr>\n",
       "      <th>3</th>\n",
       "      <td>c-11</td>\n",
       "      <td>c-25</td>\n",
       "      <td>c-6</td>\n",
       "      <td>1015</td>\n",
       "      <td>OO</td>\n",
       "      <td>DEN</td>\n",
       "      <td>MEM</td>\n",
       "      <td>872</td>\n",
       "      <td>N</td>\n",
       "    </tr>\n",
       "    <tr>\n",
       "      <th>4</th>\n",
       "      <td>c-10</td>\n",
       "      <td>c-7</td>\n",
       "      <td>c-6</td>\n",
       "      <td>1828</td>\n",
       "      <td>WN</td>\n",
       "      <td>MDW</td>\n",
       "      <td>OMA</td>\n",
       "      <td>423</td>\n",
       "      <td>Y</td>\n",
       "    </tr>\n",
       "  </tbody>\n",
       "</table>\n",
       "</div>"
      ],
      "text/plain": [
       "  Month DayofMonth DayOfWeek  DepTime UniqueCarrier Origin Dest  Distance  \\\n",
       "0   c-8       c-21       c-7     1934            AA    ATL  DFW       732   \n",
       "1   c-4       c-20       c-3     1548            US    PIT  MCO       834   \n",
       "2   c-9        c-2       c-5     1422            XE    RDU  CLE       416   \n",
       "3  c-11       c-25       c-6     1015            OO    DEN  MEM       872   \n",
       "4  c-10        c-7       c-6     1828            WN    MDW  OMA       423   \n",
       "\n",
       "  dep_delayed_15min  \n",
       "0                 N  \n",
       "1                 N  \n",
       "2                 N  \n",
       "3                 N  \n",
       "4                 Y  "
      ]
     },
     "execution_count": 11,
     "metadata": {},
     "output_type": "execute_result"
    }
   ],
   "source": [
    "train_df.head()"
   ]
  },
  {
   "cell_type": "code",
   "execution_count": 19,
   "metadata": {},
   "outputs": [
    {
     "data": {
      "text/html": [
       "<div>\n",
       "<style scoped>\n",
       "    .dataframe tbody tr th:only-of-type {\n",
       "        vertical-align: middle;\n",
       "    }\n",
       "\n",
       "    .dataframe tbody tr th {\n",
       "        vertical-align: top;\n",
       "    }\n",
       "\n",
       "    .dataframe thead th {\n",
       "        text-align: right;\n",
       "    }\n",
       "</style>\n",
       "<table border=\"1\" class=\"dataframe\">\n",
       "  <thead>\n",
       "    <tr style=\"text-align: right;\">\n",
       "      <th></th>\n",
       "      <th>Month</th>\n",
       "      <th>DayofMonth</th>\n",
       "      <th>DayOfWeek</th>\n",
       "      <th>DepTime</th>\n",
       "      <th>UniqueCarrier</th>\n",
       "      <th>Origin</th>\n",
       "      <th>Dest</th>\n",
       "      <th>Distance</th>\n",
       "    </tr>\n",
       "  </thead>\n",
       "  <tbody>\n",
       "    <tr>\n",
       "      <th>0</th>\n",
       "      <td>c-7</td>\n",
       "      <td>c-25</td>\n",
       "      <td>c-3</td>\n",
       "      <td>615</td>\n",
       "      <td>YV</td>\n",
       "      <td>MRY</td>\n",
       "      <td>PHX</td>\n",
       "      <td>598</td>\n",
       "    </tr>\n",
       "    <tr>\n",
       "      <th>1</th>\n",
       "      <td>c-4</td>\n",
       "      <td>c-17</td>\n",
       "      <td>c-2</td>\n",
       "      <td>739</td>\n",
       "      <td>WN</td>\n",
       "      <td>LAS</td>\n",
       "      <td>HOU</td>\n",
       "      <td>1235</td>\n",
       "    </tr>\n",
       "    <tr>\n",
       "      <th>2</th>\n",
       "      <td>c-12</td>\n",
       "      <td>c-2</td>\n",
       "      <td>c-7</td>\n",
       "      <td>651</td>\n",
       "      <td>MQ</td>\n",
       "      <td>GSP</td>\n",
       "      <td>ORD</td>\n",
       "      <td>577</td>\n",
       "    </tr>\n",
       "    <tr>\n",
       "      <th>3</th>\n",
       "      <td>c-3</td>\n",
       "      <td>c-25</td>\n",
       "      <td>c-7</td>\n",
       "      <td>1614</td>\n",
       "      <td>WN</td>\n",
       "      <td>BWI</td>\n",
       "      <td>MHT</td>\n",
       "      <td>377</td>\n",
       "    </tr>\n",
       "    <tr>\n",
       "      <th>4</th>\n",
       "      <td>c-6</td>\n",
       "      <td>c-6</td>\n",
       "      <td>c-3</td>\n",
       "      <td>1505</td>\n",
       "      <td>UA</td>\n",
       "      <td>ORD</td>\n",
       "      <td>STL</td>\n",
       "      <td>258</td>\n",
       "    </tr>\n",
       "  </tbody>\n",
       "</table>\n",
       "</div>"
      ],
      "text/plain": [
       "  Month DayofMonth DayOfWeek  DepTime UniqueCarrier Origin Dest  Distance\n",
       "0   c-7       c-25       c-3      615            YV    MRY  PHX       598\n",
       "1   c-4       c-17       c-2      739            WN    LAS  HOU      1235\n",
       "2  c-12        c-2       c-7      651            MQ    GSP  ORD       577\n",
       "3   c-3       c-25       c-7     1614            WN    BWI  MHT       377\n",
       "4   c-6        c-6       c-3     1505            UA    ORD  STL       258"
      ]
     },
     "execution_count": 19,
     "metadata": {},
     "output_type": "execute_result"
    }
   ],
   "source": [
    "test_df.head()"
   ]
  },
  {
   "cell_type": "markdown",
   "metadata": {
    "colab_type": "text",
    "id": "UxGBsPQhffgd"
   },
   "source": [
    "**<font color='teal'> Use the describe function to review the numeric columns in the train dataframe. </font>**"
   ]
  },
  {
   "cell_type": "code",
   "execution_count": 12,
   "metadata": {
    "colab": {
     "base_uri": "https://localhost:8080/",
     "height": 297
    },
    "colab_type": "code",
    "id": "_bRRKG3DAtae",
    "outputId": "7cfb9975-ec97-422c-abbd-98923a0b7aec"
   },
   "outputs": [
    {
     "data": {
      "text/html": [
       "<div>\n",
       "<style scoped>\n",
       "    .dataframe tbody tr th:only-of-type {\n",
       "        vertical-align: middle;\n",
       "    }\n",
       "\n",
       "    .dataframe tbody tr th {\n",
       "        vertical-align: top;\n",
       "    }\n",
       "\n",
       "    .dataframe thead th {\n",
       "        text-align: right;\n",
       "    }\n",
       "</style>\n",
       "<table border=\"1\" class=\"dataframe\">\n",
       "  <thead>\n",
       "    <tr style=\"text-align: right;\">\n",
       "      <th></th>\n",
       "      <th>DepTime</th>\n",
       "      <th>Distance</th>\n",
       "    </tr>\n",
       "  </thead>\n",
       "  <tbody>\n",
       "    <tr>\n",
       "      <th>count</th>\n",
       "      <td>100000.000000</td>\n",
       "      <td>100000.00000</td>\n",
       "    </tr>\n",
       "    <tr>\n",
       "      <th>mean</th>\n",
       "      <td>1341.523880</td>\n",
       "      <td>729.39716</td>\n",
       "    </tr>\n",
       "    <tr>\n",
       "      <th>std</th>\n",
       "      <td>476.378445</td>\n",
       "      <td>574.61686</td>\n",
       "    </tr>\n",
       "    <tr>\n",
       "      <th>min</th>\n",
       "      <td>1.000000</td>\n",
       "      <td>30.00000</td>\n",
       "    </tr>\n",
       "    <tr>\n",
       "      <th>25%</th>\n",
       "      <td>931.000000</td>\n",
       "      <td>317.00000</td>\n",
       "    </tr>\n",
       "    <tr>\n",
       "      <th>50%</th>\n",
       "      <td>1330.000000</td>\n",
       "      <td>575.00000</td>\n",
       "    </tr>\n",
       "    <tr>\n",
       "      <th>75%</th>\n",
       "      <td>1733.000000</td>\n",
       "      <td>957.00000</td>\n",
       "    </tr>\n",
       "    <tr>\n",
       "      <th>max</th>\n",
       "      <td>2534.000000</td>\n",
       "      <td>4962.00000</td>\n",
       "    </tr>\n",
       "  </tbody>\n",
       "</table>\n",
       "</div>"
      ],
      "text/plain": [
       "             DepTime      Distance\n",
       "count  100000.000000  100000.00000\n",
       "mean     1341.523880     729.39716\n",
       "std       476.378445     574.61686\n",
       "min         1.000000      30.00000\n",
       "25%       931.000000     317.00000\n",
       "50%      1330.000000     575.00000\n",
       "75%      1733.000000     957.00000\n",
       "max      2534.000000    4962.00000"
      ]
     },
     "execution_count": 12,
     "metadata": {},
     "output_type": "execute_result"
    }
   ],
   "source": [
    "train_df.describe()"
   ]
  },
  {
   "cell_type": "markdown",
   "metadata": {
    "colab_type": "text",
    "id": "i6k-_fI5Aiyh"
   },
   "source": [
    "Notice, `DepTime` is the departure time in a numeric representation in 2400 hours. "
   ]
  },
  {
   "cell_type": "markdown",
   "metadata": {
    "colab_type": "text",
    "id": "gtZS4-hrlQah"
   },
   "source": [
    " **<font color='teal'>The response variable is 'dep_delayed_15min' which is a categorical column, so we need to map the Y for yes and N for no values to 1 and 0. Run the code in the next cell to do this.</font>**"
   ]
  },
  {
   "cell_type": "code",
   "execution_count": 13,
   "metadata": {
    "ExecuteTime": {
     "end_time": "2019-04-22T15:38:42.677690Z",
     "start_time": "2019-04-22T15:38:42.481963Z"
    },
    "colab": {},
    "colab_type": "code",
    "id": "yRlOTbnW-KYc"
   },
   "outputs": [],
   "source": [
    "#train_df = train_df[train_df.DepTime <= 2400].copy()\n",
    "y_train = train_df['dep_delayed_15min'].map({'Y': 1, 'N': 0}).values"
   ]
  },
  {
   "cell_type": "markdown",
   "metadata": {
    "colab_type": "text",
    "id": "z3WPkFQO9uo9"
   },
   "source": [
    "## Feature Engineering\n",
    "Use these defined functions to create additional features for the model. Run the cell to add the functions to your workspace."
   ]
  },
  {
   "cell_type": "code",
   "execution_count": 14,
   "metadata": {
    "colab": {},
    "colab_type": "code",
    "id": "cXqsqz5W9t3r"
   },
   "outputs": [],
   "source": [
    "def label_enc(df_column):\n",
    "    df_column = LabelEncoder().fit_transform(df_column)\n",
    "    return df_column\n",
    "\n",
    "def make_harmonic_features_sin(value, period=2400):\n",
    "    value *= 2 * np.pi / period \n",
    "    return np.sin(value)\n",
    "\n",
    "def make_harmonic_features_cos(value, period=2400):\n",
    "    value *= 2 * np.pi / period \n",
    "    return np.cos(value)\n",
    "\n",
    "def feature_eng(df):\n",
    "    df['flight'] = df['Origin']+df['Dest']\n",
    "    df['Month'] = df.Month.map(lambda x: x.split('-')[-1]).astype('int32')\n",
    "    df['DayofMonth'] = df.DayofMonth.map(lambda x: x.split('-')[-1]).astype('uint8')\n",
    "    df['begin_of_month'] = (df['DayofMonth'] < 10).astype('uint8')\n",
    "    df['midddle_of_month'] = ((df['DayofMonth'] >= 10)&(df['DayofMonth'] < 20)).astype('uint8')\n",
    "    df['end_of_month'] = (df['DayofMonth'] >= 20).astype('uint8')\n",
    "    df['DayOfWeek'] = df.DayOfWeek.map(lambda x: x.split('-')[-1]).astype('uint8')\n",
    "    df['hour'] = df.DepTime.map(lambda x: x/100).astype('int32')\n",
    "    df['morning'] = df['hour'].map(lambda x: 1 if (x <= 11)& (x >= 7) else 0).astype('uint8')\n",
    "    df['day'] = df['hour'].map(lambda x: 1 if (x >= 12) & (x <= 18) else 0).astype('uint8')\n",
    "    df['evening'] = df['hour'].map(lambda x: 1 if (x >= 19) & (x <= 23) else 0).astype('uint8')\n",
    "    df['night'] = df['hour'].map(lambda x: 1 if (x >= 0) & (x <= 6) else 0).astype('int32')\n",
    "    df['winter'] = df['Month'].map(lambda x: x in [12, 1, 2]).astype('int32')\n",
    "    df['spring'] = df['Month'].map(lambda x: x in [3, 4, 5]).astype('int32')\n",
    "    df['summer'] = df['Month'].map(lambda x: x in [6, 7, 8]).astype('int32')\n",
    "    df['autumn'] = df['Month'].map(lambda x: x in [9, 10, 11]).astype('int32')\n",
    "    df['holiday'] = (df['DayOfWeek'] >= 5).astype(int) \n",
    "    df['weekday'] = (df['DayOfWeek'] < 5).astype(int)\n",
    "    df['airport_dest_per_month'] = df.groupby(['Dest', 'Month'])['Dest'].transform('count')\n",
    "    df['airport_origin_per_month'] = df.groupby(['Origin', 'Month'])['Origin'].transform('count')\n",
    "    df['airport_dest_count'] = df.groupby(['Dest'])['Dest'].transform('count')\n",
    "    df['airport_origin_count'] = df.groupby(['Origin'])['Origin'].transform('count')\n",
    "    df['carrier_count'] = df.groupby(['UniqueCarrier'])['Dest'].transform('count')\n",
    "    df['carrier_count_per month'] = df.groupby(['UniqueCarrier', 'Month'])['Dest'].transform('count')\n",
    "    df['deptime_cos'] = df['DepTime'].map(make_harmonic_features_cos)\n",
    "    df['deptime_sin'] = df['DepTime'].map(make_harmonic_features_sin)\n",
    "    df['flightUC'] = df['flight']+df['UniqueCarrier']\n",
    "    df['DestUC'] = df['Dest']+df['UniqueCarrier']\n",
    "    df['OriginUC'] = df['Origin']+df['UniqueCarrier']\n",
    "    return df.drop('DepTime', axis=1)"
   ]
  },
  {
   "cell_type": "markdown",
   "metadata": {
    "colab_type": "text",
    "id": "-BYbxXpU-FGE"
   },
   "source": [
    "Concatenate the training and testing dataframes.\n"
   ]
  },
  {
   "cell_type": "code",
   "execution_count": 15,
   "metadata": {
    "colab": {},
    "colab_type": "code",
    "id": "Cj6bfSNw_RAf"
   },
   "outputs": [],
   "source": [
    "full_df = pd.concat([train_df.drop('dep_delayed_15min', axis=1), test_df])\n",
    "full_df = feature_eng(full_df)"
   ]
  },
  {
   "cell_type": "code",
   "execution_count": 20,
   "metadata": {},
   "outputs": [
    {
     "data": {
      "text/html": [
       "<div>\n",
       "<style scoped>\n",
       "    .dataframe tbody tr th:only-of-type {\n",
       "        vertical-align: middle;\n",
       "    }\n",
       "\n",
       "    .dataframe tbody tr th {\n",
       "        vertical-align: top;\n",
       "    }\n",
       "\n",
       "    .dataframe thead th {\n",
       "        text-align: right;\n",
       "    }\n",
       "</style>\n",
       "<table border=\"1\" class=\"dataframe\">\n",
       "  <thead>\n",
       "    <tr style=\"text-align: right;\">\n",
       "      <th></th>\n",
       "      <th>Month</th>\n",
       "      <th>DayofMonth</th>\n",
       "      <th>DayOfWeek</th>\n",
       "      <th>UniqueCarrier</th>\n",
       "      <th>Origin</th>\n",
       "      <th>Dest</th>\n",
       "      <th>Distance</th>\n",
       "      <th>flight</th>\n",
       "      <th>begin_of_month</th>\n",
       "      <th>midddle_of_month</th>\n",
       "      <th>...</th>\n",
       "      <th>airport_origin_per_month</th>\n",
       "      <th>airport_dest_count</th>\n",
       "      <th>airport_origin_count</th>\n",
       "      <th>carrier_count</th>\n",
       "      <th>carrier_count_per month</th>\n",
       "      <th>deptime_cos</th>\n",
       "      <th>deptime_sin</th>\n",
       "      <th>flightUC</th>\n",
       "      <th>DestUC</th>\n",
       "      <th>OriginUC</th>\n",
       "    </tr>\n",
       "  </thead>\n",
       "  <tbody>\n",
       "    <tr>\n",
       "      <th>0</th>\n",
       "      <td>8</td>\n",
       "      <td>21</td>\n",
       "      <td>7</td>\n",
       "      <td>1</td>\n",
       "      <td>19</td>\n",
       "      <td>82</td>\n",
       "      <td>732</td>\n",
       "      <td>171</td>\n",
       "      <td>0</td>\n",
       "      <td>0</td>\n",
       "      <td>...</td>\n",
       "      <td>1019</td>\n",
       "      <td>8290</td>\n",
       "      <td>11387</td>\n",
       "      <td>18024</td>\n",
       "      <td>1569</td>\n",
       "      <td>0.343660</td>\n",
       "      <td>-0.939094</td>\n",
       "      <td>265</td>\n",
       "      <td>494</td>\n",
       "      <td>67</td>\n",
       "    </tr>\n",
       "    <tr>\n",
       "      <th>1</th>\n",
       "      <td>4</td>\n",
       "      <td>20</td>\n",
       "      <td>3</td>\n",
       "      <td>19</td>\n",
       "      <td>226</td>\n",
       "      <td>180</td>\n",
       "      <td>834</td>\n",
       "      <td>3986</td>\n",
       "      <td>0</td>\n",
       "      <td>0</td>\n",
       "      <td>...</td>\n",
       "      <td>105</td>\n",
       "      <td>3523</td>\n",
       "      <td>1390</td>\n",
       "      <td>13069</td>\n",
       "      <td>1094</td>\n",
       "      <td>-0.612907</td>\n",
       "      <td>-0.790155</td>\n",
       "      <td>6907</td>\n",
       "      <td>1085</td>\n",
       "      <td>1441</td>\n",
       "    </tr>\n",
       "    <tr>\n",
       "      <th>2</th>\n",
       "      <td>9</td>\n",
       "      <td>2</td>\n",
       "      <td>5</td>\n",
       "      <td>21</td>\n",
       "      <td>239</td>\n",
       "      <td>62</td>\n",
       "      <td>416</td>\n",
       "      <td>4091</td>\n",
       "      <td>1</td>\n",
       "      <td>0</td>\n",
       "      <td>...</td>\n",
       "      <td>136</td>\n",
       "      <td>2247</td>\n",
       "      <td>1747</td>\n",
       "      <td>11737</td>\n",
       "      <td>977</td>\n",
       "      <td>-0.835807</td>\n",
       "      <td>-0.549023</td>\n",
       "      <td>7064</td>\n",
       "      <td>359</td>\n",
       "      <td>1518</td>\n",
       "    </tr>\n",
       "    <tr>\n",
       "      <th>3</th>\n",
       "      <td>11</td>\n",
       "      <td>25</td>\n",
       "      <td>6</td>\n",
       "      <td>16</td>\n",
       "      <td>81</td>\n",
       "      <td>184</td>\n",
       "      <td>872</td>\n",
       "      <td>1304</td>\n",
       "      <td>0</td>\n",
       "      <td>0</td>\n",
       "      <td>...</td>\n",
       "      <td>514</td>\n",
       "      <td>1785</td>\n",
       "      <td>6222</td>\n",
       "      <td>15343</td>\n",
       "      <td>1242</td>\n",
       "      <td>-0.884988</td>\n",
       "      <td>0.465615</td>\n",
       "      <td>2258</td>\n",
       "      <td>1122</td>\n",
       "      <td>484</td>\n",
       "    </tr>\n",
       "    <tr>\n",
       "      <th>4</th>\n",
       "      <td>10</td>\n",
       "      <td>7</td>\n",
       "      <td>6</td>\n",
       "      <td>20</td>\n",
       "      <td>182</td>\n",
       "      <td>210</td>\n",
       "      <td>423</td>\n",
       "      <td>2979</td>\n",
       "      <td>1</td>\n",
       "      <td>0</td>\n",
       "      <td>...</td>\n",
       "      <td>226</td>\n",
       "      <td>687</td>\n",
       "      <td>2571</td>\n",
       "      <td>30958</td>\n",
       "      <td>2674</td>\n",
       "      <td>0.073238</td>\n",
       "      <td>-0.997314</td>\n",
       "      <td>5144</td>\n",
       "      <td>1313</td>\n",
       "      <td>1103</td>\n",
       "    </tr>\n",
       "  </tbody>\n",
       "</table>\n",
       "<p>5 rows × 33 columns</p>\n",
       "</div>"
      ],
      "text/plain": [
       "   Month  DayofMonth  DayOfWeek  UniqueCarrier  Origin  Dest  Distance  \\\n",
       "0      8          21          7              1      19    82       732   \n",
       "1      4          20          3             19     226   180       834   \n",
       "2      9           2          5             21     239    62       416   \n",
       "3     11          25          6             16      81   184       872   \n",
       "4     10           7          6             20     182   210       423   \n",
       "\n",
       "   flight  begin_of_month  midddle_of_month  ...  airport_origin_per_month  \\\n",
       "0     171               0                 0  ...                      1019   \n",
       "1    3986               0                 0  ...                       105   \n",
       "2    4091               1                 0  ...                       136   \n",
       "3    1304               0                 0  ...                       514   \n",
       "4    2979               1                 0  ...                       226   \n",
       "\n",
       "   airport_dest_count  airport_origin_count  carrier_count  \\\n",
       "0                8290                 11387          18024   \n",
       "1                3523                  1390          13069   \n",
       "2                2247                  1747          11737   \n",
       "3                1785                  6222          15343   \n",
       "4                 687                  2571          30958   \n",
       "\n",
       "   carrier_count_per month  deptime_cos  deptime_sin  flightUC  DestUC  \\\n",
       "0                     1569     0.343660    -0.939094       265     494   \n",
       "1                     1094    -0.612907    -0.790155      6907    1085   \n",
       "2                      977    -0.835807    -0.549023      7064     359   \n",
       "3                     1242    -0.884988     0.465615      2258    1122   \n",
       "4                     2674     0.073238    -0.997314      5144    1313   \n",
       "\n",
       "   OriginUC  \n",
       "0        67  \n",
       "1      1441  \n",
       "2      1518  \n",
       "3       484  \n",
       "4      1103  \n",
       "\n",
       "[5 rows x 33 columns]"
      ]
     },
     "execution_count": 20,
     "metadata": {},
     "output_type": "execute_result"
    }
   ],
   "source": [
    "full_df.head()"
   ]
  },
  {
   "cell_type": "markdown",
   "metadata": {
    "colab_type": "text",
    "id": "GSO8JbfM_W-F"
   },
   "source": [
    "Apply the earlier defined feature engineering functions to the full dataframe."
   ]
  },
  {
   "cell_type": "code",
   "execution_count": 16,
   "metadata": {
    "colab": {},
    "colab_type": "code",
    "id": "x6RfAINftjwi"
   },
   "outputs": [],
   "source": [
    "for column in ['UniqueCarrier', 'Origin', 'Dest','flight',  'flightUC', 'DestUC', 'OriginUC']:\n",
    "    full_df[column] = label_enc(full_df[column])"
   ]
  },
  {
   "cell_type": "markdown",
   "metadata": {
    "colab_type": "text",
    "id": "IJAw1RGB_ZuM"
   },
   "source": [
    "\n",
    "Split the new full dataframe into X_train and X_test. "
   ]
  },
  {
   "cell_type": "code",
   "execution_count": 17,
   "metadata": {
    "colab": {},
    "colab_type": "code",
    "id": "15cPtQU5tjfz"
   },
   "outputs": [],
   "source": [
    "X_train = full_df[:train_df.shape[0]]\n",
    "X_test = full_df[train_df.shape[0]:]"
   ]
  },
  {
   "cell_type": "markdown",
   "metadata": {
    "colab_type": "text",
    "id": "umfAw-9JErLV"
   },
   "source": [
    "Create a list of the categorical features."
   ]
  },
  {
   "cell_type": "code",
   "execution_count": 18,
   "metadata": {
    "ExecuteTime": {
     "end_time": "2019-04-22T14:31:58.412296Z",
     "start_time": "2019-04-22T14:31:58.409088Z"
    },
    "colab": {},
    "colab_type": "code",
    "id": "5ibeVyNb-KZI"
   },
   "outputs": [],
   "source": [
    "categorical_features = ['Month',  'DayOfWeek', 'UniqueCarrier', 'Origin', 'Dest','flight',  'flightUC', 'DestUC', 'OriginUC']"
   ]
  },
  {
   "cell_type": "markdown",
   "metadata": {
    "colab_type": "text",
    "id": "NzMIsMPIETVk"
   },
   "source": [
    "Let's build a light GBM model to test the bayesian optimizer."
   ]
  },
  {
   "cell_type": "markdown",
   "metadata": {
    "ExecuteTime": {
     "end_time": "2019-04-22T15:18:04.466965Z",
     "start_time": "2019-04-22T15:18:04.457992Z"
    },
    "colab_type": "text",
    "id": "2hfm1i5G-KZH"
   },
   "source": [
    "### [LightGBM](https://lightgbm.readthedocs.io/en/latest/) is a gradient boosting framework that uses tree-based learning algorithms. It is designed to be distributed and efficient with the following advantages:\n",
    "\n",
    "* Faster training speed and higher efficiency.\n",
    "* Lower memory usage.\n",
    "* Better accuracy.\n",
    "* Support of parallel and GPU learning.\n",
    "* Capable of handling large-scale data."
   ]
  },
  {
   "cell_type": "markdown",
   "metadata": {
    "colab_type": "text",
    "id": "jf-3F2Wg-KZL"
   },
   "source": [
    "First, we define the function we want to maximize and that will count cross-validation metrics of lightGBM for our parameters.\n",
    "\n",
    "Some params such as num_leaves, max_depth, min_child_samples, min_data_in_leaf should be integers."
   ]
  },
  {
   "cell_type": "code",
   "execution_count": 21,
   "metadata": {
    "ExecuteTime": {
     "end_time": "2019-04-22T15:40:14.034265Z",
     "start_time": "2019-04-22T15:40:14.027868Z"
    },
    "colab": {},
    "colab_type": "code",
    "id": "LyUJBhGX-KZM"
   },
   "outputs": [],
   "source": [
    "def lgb_eval(num_leaves,max_depth,lambda_l2,lambda_l1,min_child_samples, min_data_in_leaf):\n",
    "    params = {\n",
    "        \"objective\" : \"binary\",\n",
    "        \"metric\" : \"auc\", \n",
    "        'is_unbalance': True,\n",
    "        \"num_leaves\" : int(num_leaves),\n",
    "        \"max_depth\" : int(max_depth),\n",
    "        \"lambda_l2\" : lambda_l2,\n",
    "        \"lambda_l1\" : lambda_l1,\n",
    "        \"num_threads\" : 20,\n",
    "        \"min_child_samples\" : int(min_child_samples),\n",
    "        'min_data_in_leaf': int(min_data_in_leaf),\n",
    "        \"learning_rate\" : 0.03,\n",
    "        \"subsample_freq\" : 5,\n",
    "        \"bagging_seed\" : 42,\n",
    "        \"verbosity\" : -1\n",
    "    }\n",
    "    lgtrain = lightgbm.Dataset(X_train, y_train,categorical_feature=categorical_features)\n",
    "    cv_result = lightgbm.cv(params,\n",
    "                       lgtrain,\n",
    "                       1000,\n",
    "                       early_stopping_rounds=100,\n",
    "                       stratified=True,\n",
    "                       nfold=3)\n",
    "    return cv_result['auc-mean'][-1]"
   ]
  },
  {
   "cell_type": "markdown",
   "metadata": {
    "colab_type": "text",
    "id": "FJwqBhdeF11Q"
   },
   "source": [
    "Apply the Bayesian optimizer to the function we created in the previous step to identify the best hyperparameters. We will run 10 iterations and set init_points = 2.\n"
   ]
  },
  {
   "cell_type": "code",
   "execution_count": 23,
   "metadata": {
    "ExecuteTime": {
     "end_time": "2019-04-22T15:48:04.682447Z",
     "start_time": "2019-04-22T15:40:14.641634Z"
    },
    "colab": {
     "base_uri": "https://localhost:8080/",
     "height": 51
    },
    "colab_type": "code",
    "id": "JheCOkUE-KZP",
    "outputId": "8f37ee51-885d-44e4-cdcd-ceb7abd58b61"
   },
   "outputs": [
    {
     "name": "stdout",
     "output_type": "stream",
     "text": [
      "|   iter    |  target   | lambda_l1 | lambda_l2 | max_depth | min_ch... | min_da... | num_le... |\n",
      "-------------------------------------------------------------------------------------------------\n",
      "| \u001b[0m 1       \u001b[0m | \u001b[0m 0.7424  \u001b[0m | \u001b[0m 0.03316 \u001b[0m | \u001b[0m 0.0189  \u001b[0m | \u001b[0m 14.22   \u001b[0m | \u001b[0m 6.081e+0\u001b[0m | \u001b[0m 1.344e+0\u001b[0m | \u001b[0m 3.428e+0\u001b[0m |\n",
      "| \u001b[95m 2       \u001b[0m | \u001b[95m 0.743   \u001b[0m | \u001b[95m 0.0216  \u001b[0m | \u001b[95m 0.02713 \u001b[0m | \u001b[95m 14.12   \u001b[0m | \u001b[95m 6.654e+0\u001b[0m | \u001b[95m 1.469e+0\u001b[0m | \u001b[95m 744.3   \u001b[0m |\n",
      "| \u001b[0m 3       \u001b[0m | \u001b[0m 0.7403  \u001b[0m | \u001b[0m 0.0016  \u001b[0m | \u001b[0m 0.02201 \u001b[0m | \u001b[0m 36.92   \u001b[0m | \u001b[0m 4.089e+0\u001b[0m | \u001b[0m 1.114e+0\u001b[0m | \u001b[0m 1.945e+0\u001b[0m |\n",
      "| \u001b[95m 4       \u001b[0m | \u001b[95m 0.7433  \u001b[0m | \u001b[95m 0.01061 \u001b[0m | \u001b[95m 0.001046\u001b[0m | \u001b[95m 53.46   \u001b[0m | \u001b[95m 412.3   \u001b[0m | \u001b[95m 1.649e+0\u001b[0m | \u001b[95m 1.963e+0\u001b[0m |\n",
      "| \u001b[0m 5       \u001b[0m | \u001b[0m 0.7194  \u001b[0m | \u001b[0m 0.000142\u001b[0m | \u001b[0m 0.01103 \u001b[0m | \u001b[0m 6.481   \u001b[0m | \u001b[0m 5.125e+0\u001b[0m | \u001b[0m 385.2   \u001b[0m | \u001b[0m 2.603e+0\u001b[0m |\n",
      "| \u001b[0m 6       \u001b[0m | \u001b[0m 0.7198  \u001b[0m | \u001b[0m 0.04023 \u001b[0m | \u001b[0m 0.03173 \u001b[0m | \u001b[0m 62.9    \u001b[0m | \u001b[0m 1.15e+03\u001b[0m | \u001b[0m 346.4   \u001b[0m | \u001b[0m 3.496e+0\u001b[0m |\n",
      "| \u001b[95m 7       \u001b[0m | \u001b[95m 0.7434  \u001b[0m | \u001b[95m 0.01954 \u001b[0m | \u001b[95m 0.04736 \u001b[0m | \u001b[95m 33.12   \u001b[0m | \u001b[95m 9.358e+0\u001b[0m | \u001b[95m 1.684e+0\u001b[0m | \u001b[95m 2.527e+0\u001b[0m |\n",
      "| \u001b[0m 8       \u001b[0m | \u001b[0m 0.7194  \u001b[0m | \u001b[0m 0.04238 \u001b[0m | \u001b[0m 0.03559 \u001b[0m | \u001b[0m 18.87   \u001b[0m | \u001b[0m 2.603e+0\u001b[0m | \u001b[0m 458.9   \u001b[0m | \u001b[0m 979.7   \u001b[0m |\n",
      "| \u001b[95m 9       \u001b[0m | \u001b[95m 0.7436  \u001b[0m | \u001b[95m 0.02339 \u001b[0m | \u001b[95m 0.00764 \u001b[0m | \u001b[95m 25.3    \u001b[0m | \u001b[95m 110.7   \u001b[0m | \u001b[95m 1.981e+0\u001b[0m | \u001b[95m 1.53e+03\u001b[0m |\n",
      "| \u001b[0m 10      \u001b[0m | \u001b[0m 0.7418  \u001b[0m | \u001b[0m 0.03888 \u001b[0m | \u001b[0m 0.01903 \u001b[0m | \u001b[0m 59.0    \u001b[0m | \u001b[0m 169.3   \u001b[0m | \u001b[0m 1.179e+0\u001b[0m | \u001b[0m 1.192e+0\u001b[0m |\n",
      "| \u001b[0m 11      \u001b[0m | \u001b[0m 0.7434  \u001b[0m | \u001b[0m 0.02977 \u001b[0m | \u001b[0m 0.01738 \u001b[0m | \u001b[0m 36.61   \u001b[0m | \u001b[0m 9.918e+0\u001b[0m | \u001b[0m 1.43e+03\u001b[0m | \u001b[0m 2.986e+0\u001b[0m |\n",
      "| \u001b[0m 12      \u001b[0m | \u001b[0m 0.7433  \u001b[0m | \u001b[0m 0.0302  \u001b[0m | \u001b[0m 0.007902\u001b[0m | \u001b[0m 9.054   \u001b[0m | \u001b[0m 7.275e+0\u001b[0m | \u001b[0m 1.803e+0\u001b[0m | \u001b[0m 3.071e+0\u001b[0m |\n",
      "=================================================================================================\n"
     ]
    }
   ],
   "source": [
    "lgbBO = BayesianOptimization(lgb_eval, {'num_leaves': (25, 4000),\n",
    "                                                'max_depth': (5, 63),\n",
    "                                                'lambda_l2': (0.0, 0.05),\n",
    "                                                'lambda_l1': (0.0, 0.05),\n",
    "                                                'min_child_samples': (50, 10000),\n",
    "                                                'min_data_in_leaf': (100, 2000)\n",
    "                                                })\n",
    "\n",
    "lgbBO.maximize(n_iter=10, init_points=2)"
   ]
  },
  {
   "cell_type": "markdown",
   "metadata": {
    "colab_type": "text",
    "id": "rdkxhhST-KZS"
   },
   "source": [
    " **<font color='teal'> Print the best result by using the '.max' function.</font>**"
   ]
  },
  {
   "cell_type": "code",
   "execution_count": 24,
   "metadata": {
    "ExecuteTime": {
     "end_time": "2019-04-22T15:49:01.513767Z",
     "start_time": "2019-04-22T15:49:01.509392Z"
    },
    "colab": {},
    "colab_type": "code",
    "id": "oc8z6mfy-KZS"
   },
   "outputs": [
    {
     "data": {
      "text/plain": [
       "{'target': 0.7436321339765102,\n",
       " 'params': {'lambda_l1': 0.02339235529285315,\n",
       "  'lambda_l2': 0.007640488982621297,\n",
       "  'max_depth': 25.30044804906994,\n",
       "  'min_child_samples': 110.65923189062079,\n",
       "  'min_data_in_leaf': 1980.7770769880094,\n",
       "  'num_leaves': 1530.4536124968517}}"
      ]
     },
     "execution_count": 24,
     "metadata": {},
     "output_type": "execute_result"
    }
   ],
   "source": [
    "lgbBO.max"
   ]
  },
  {
   "cell_type": "markdown",
   "metadata": {
    "ExecuteTime": {
     "end_time": "2019-04-22T15:50:29.049881Z",
     "start_time": "2019-04-22T15:50:29.045908Z"
    },
    "colab_type": "text",
    "id": "J5LAydKC-KZW"
   },
   "source": [
    "Review the process at each step by using the '.res[0]' function."
   ]
  },
  {
   "cell_type": "code",
   "execution_count": 25,
   "metadata": {
    "ExecuteTime": {
     "end_time": "2019-04-22T15:51:01.001688Z",
     "start_time": "2019-04-22T15:51:00.997484Z"
    },
    "colab": {},
    "colab_type": "code",
    "id": "X1ttZmrI-KZX"
   },
   "outputs": [
    {
     "data": {
      "text/plain": [
       "{'target': 0.7423702097497179,\n",
       " 'params': {'lambda_l1': 0.033164821533639734,\n",
       "  'lambda_l2': 0.018895180150212416,\n",
       "  'max_depth': 14.223214739018417,\n",
       "  'min_child_samples': 6081.407059427541,\n",
       "  'min_data_in_leaf': 1343.7034613485118,\n",
       "  'num_leaves': 3428.0151057403154}}"
      ]
     },
     "execution_count": 25,
     "metadata": {},
     "output_type": "execute_result"
    }
   ],
   "source": [
    "lgbBO.res[0]"
   ]
  },
  {
   "cell_type": "code",
   "execution_count": null,
   "metadata": {},
   "outputs": [],
   "source": []
  }
 ],
 "metadata": {
  "colab": {
   "name": "Bayesian_optimization_exercise.ipynb",
   "provenance": []
  },
  "deepnote_execution_queue": [],
  "kernelspec": {
   "display_name": "Python 3 (ipykernel)",
   "language": "python",
   "name": "python3"
  },
  "language_info": {
   "codemirror_mode": {
    "name": "ipython",
    "version": 3
   },
   "file_extension": ".py",
   "mimetype": "text/x-python",
   "name": "python",
   "nbconvert_exporter": "python",
   "pygments_lexer": "ipython3",
   "version": "3.9.7"
  },
  "varInspector": {
   "cols": {
    "lenName": 16,
    "lenType": 16,
    "lenVar": 40
   },
   "kernels_config": {
    "python": {
     "delete_cmd_postfix": "",
     "delete_cmd_prefix": "del ",
     "library": "var_list.py",
     "varRefreshCmd": "print(var_dic_list())"
    },
    "r": {
     "delete_cmd_postfix": ") ",
     "delete_cmd_prefix": "rm(",
     "library": "var_list.r",
     "varRefreshCmd": "cat(var_dic_list()) "
    }
   },
   "types_to_exclude": [
    "module",
    "function",
    "builtin_function_or_method",
    "instance",
    "_Feature"
   ],
   "window_display": false
  }
 },
 "nbformat": 4,
 "nbformat_minor": 1
}
